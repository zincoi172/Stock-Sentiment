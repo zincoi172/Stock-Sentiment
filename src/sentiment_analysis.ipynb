{
 "cells": [
  {
   "cell_type": "code",
   "execution_count": null,
   "id": "695bfd44",
   "metadata": {},
   "outputs": [
    {
     "name": "stdout",
     "output_type": "stream",
     "text": [
      "✅ Sentiment analysis complete! Saved to ../data/sentiment_data/news_apple_sentiment.csv\n"
     ]
    },
    {
     "data": {
      "text/html": [
       "<div>\n",
       "<style scoped>\n",
       "    .dataframe tbody tr th:only-of-type {\n",
       "        vertical-align: middle;\n",
       "    }\n",
       "\n",
       "    .dataframe tbody tr th {\n",
       "        vertical-align: top;\n",
       "    }\n",
       "\n",
       "    .dataframe thead th {\n",
       "        text-align: right;\n",
       "    }\n",
       "</style>\n",
       "<table border=\"1\" class=\"dataframe\">\n",
       "  <thead>\n",
       "    <tr style=\"text-align: right;\">\n",
       "      <th></th>\n",
       "      <th>description</th>\n",
       "      <th>sentiment_score</th>\n",
       "    </tr>\n",
       "  </thead>\n",
       "  <tbody>\n",
       "    <tr>\n",
       "      <th>0</th>\n",
       "      <td>A California mother's kids were all born on th...</td>\n",
       "      <td>0.0000</td>\n",
       "    </tr>\n",
       "    <tr>\n",
       "      <th>1</th>\n",
       "      <td>A California mother's kids were all born on th...</td>\n",
       "      <td>0.0000</td>\n",
       "    </tr>\n",
       "    <tr>\n",
       "      <th>2</th>\n",
       "      <td>Apple is quietly testing a ChatGPT-style Suppo...</td>\n",
       "      <td>0.8689</td>\n",
       "    </tr>\n",
       "    <tr>\n",
       "      <th>3</th>\n",
       "      <td>Fox Corporation on Tuesday announced that FOX ...</td>\n",
       "      <td>0.0000</td>\n",
       "    </tr>\n",
       "    <tr>\n",
       "      <th>4</th>\n",
       "      <td>Fans of ad-blocking browser extensions will be...</td>\n",
       "      <td>0.5719</td>\n",
       "    </tr>\n",
       "  </tbody>\n",
       "</table>\n",
       "</div>"
      ],
      "text/plain": [
       "                                         description  sentiment_score\n",
       "0  A California mother's kids were all born on th...           0.0000\n",
       "1  A California mother's kids were all born on th...           0.0000\n",
       "2  Apple is quietly testing a ChatGPT-style Suppo...           0.8689\n",
       "3  Fox Corporation on Tuesday announced that FOX ...           0.0000\n",
       "4  Fans of ad-blocking browser extensions will be...           0.5719"
      ]
     },
     "execution_count": 2,
     "metadata": {},
     "output_type": "execute_result"
    }
   ],
   "source": [
    "import pandas as pd\n",
    "from vaderSentiment.vaderSentiment import SentimentIntensityAnalyzer\n",
    "import os\n",
    "\n",
    "# Load your saved CSV (adjust if needed)\n",
    "df = pd.read_csv(\"../data/sentiment_data/news_apple.csv\")\n",
    "\n",
    "# Initialize VADER\n",
    "analyzer = SentimentIntensityAnalyzer()\n",
    "\n",
    "# Run sentiment analysis on the description field\n",
    "df[\"sentiment_score\"] = df[\"description\"].fillna(\"\").apply(\n",
    "    lambda text: analyzer.polarity_scores(text)[\"compound\"]\n",
    ")\n",
    "\n",
    "# Save results to new CSV\n",
    "output_path = \"../data/sentiment_data/news_apple_sentiment.csv\"\n",
    "df.to_csv(output_path, index=False)\n",
    "\n",
    "print(f\"✅ Sentiment analysis complete! Saved to {output_path}\")\n",
    "df[[\"description\", \"sentiment_score\"]].head()\n"
   ]
  },
  {
   "cell_type": "code",
   "execution_count": null,
   "id": "b75e1f85",
   "metadata": {},
   "outputs": [],
   "source": []
  }
 ],
 "metadata": {
  "kernelspec": {
   "display_name": "daivo",
   "language": "python",
   "name": "python3"
  },
  "language_info": {
   "codemirror_mode": {
    "name": "ipython",
    "version": 3
   },
   "file_extension": ".py",
   "mimetype": "text/x-python",
   "name": "python",
   "nbconvert_exporter": "python",
   "pygments_lexer": "ipython3",
   "version": "3.12.4"
  }
 },
 "nbformat": 4,
 "nbformat_minor": 5
}
